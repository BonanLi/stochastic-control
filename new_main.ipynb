{
 "cells": [
  {
   "cell_type": "code",
   "execution_count": 1,
   "metadata": {},
   "outputs": [],
   "source": [
    "import numpy as np\n",
    "import scipy\n",
    "import matplotlib.pyplot as plt\n",
    "import torch\n",
    "from scipy.integrate import solve_ivp"
   ]
  },
  {
   "cell_type": "code",
   "execution_count": null,
   "metadata": {},
   "outputs": [],
   "source": [
    "class LQR:\n",
    "    def __init__(self, H, M, C, D, R, T):\n",
    "        self.H = torch.tensor(H, dtype=torch.float32)\n",
    "        self.M = torch.tensor(M, dtype=torch.float32)\n",
    "        self.C = torch.tensor(C, dtype=torch.float32)\n",
    "        self.D = torch.tensor(D, dtype=torch.float32)\n",
    "        self.R = torch.tensor(R, dtype=torch.float32)\n",
    "        self.T = T\n",
    "        self.sigma = None  # This should be set based on the problem's context if needed\n",
    "\n",
    "    def solve_ricatti_ode(self, time_grid):\n",
    "        H, M, C, D, R = self.H.numpy(), self.M.numpy(), self.C.numpy(), self.D.numpy(), self.R.numpy()\n",
    "        T = self.T\n",
    "\n",
    "        def ricatti_ode(t, S_flat):\n",
    "            S = S_flat.reshape(2, 2)\n",
    "            dSdt = -2 * H.T @ S + S @ M @ np.linalg.inv(D) @ M.T @ S - C\n",
    "            return dSdt.flatten()\n",
    "        \n",
    "        sol = solve_ivp(ricatti_ode, [T, time_grid[0]], R.flatten(), t_eval=torch.flip(time_grid, dims=[0]), vectorized=True)\n",
    "        S_values = sol.y.T.reshape(-1, 2, 2)\n",
    "        S_values_tensor = torch.tensor(S_values, dtype=torch.float32)\n",
    "        \n",
    "        S_values_reversed = torch.flip(S_values_tensor, [0])\n",
    "        return S_values_reversed"
   ]
  }
 ],
 "metadata": {
  "kernelspec": {
   "display_name": "Python 3",
   "language": "python",
   "name": "python3"
  },
  "language_info": {
   "codemirror_mode": {
    "name": "ipython",
    "version": 3
   },
   "file_extension": ".py",
   "mimetype": "text/x-python",
   "name": "python",
   "nbconvert_exporter": "python",
   "pygments_lexer": "ipython3",
   "version": "3.10.13"
  }
 },
 "nbformat": 4,
 "nbformat_minor": 2
}
