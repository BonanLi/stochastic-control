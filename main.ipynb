{
 "cells": [
  {
   "cell_type": "markdown",
   "metadata": {},
   "source": [
    "# SCDAA Coursework"
   ]
  },
  {
   "cell_type": "code",
   "execution_count": 1,
   "metadata": {},
   "outputs": [],
   "source": [
    "import numpy as np\n",
    "import scipy\n",
    "import matplotlib.pyplot as plt\n",
    "import torch"
   ]
  },
  {
   "cell_type": "code",
   "execution_count": null,
   "metadata": {},
   "outputs": [],
   "source": [
    "class solving_LQR:\n",
    "    def __init__(self, H, M, C, D, R, T):\n",
    "        self.H = torch.tensor(H, dtype=torch.float64)\n",
    "        self.M = torch.tensor(M, dtype=torch.float64)\n",
    "        self.C = torch.tensor(C, dtype=torch.float64)\n",
    "        self.D = torch.tensor(D, dtype=torch.float64)\n",
    "        self.R = torch.tensor(R, dtype=torch.float64)\n",
    "        self.T = T\n",
    "        self.sigma = None "
   ]
  }
 ],
 "metadata": {
  "kernelspec": {
   "display_name": "Python 3",
   "language": "python",
   "name": "python3"
  },
  "language_info": {
   "codemirror_mode": {
    "name": "ipython",
    "version": 3
   },
   "file_extension": ".py",
   "mimetype": "text/x-python",
   "name": "python",
   "nbconvert_exporter": "python",
   "pygments_lexer": "ipython3",
   "version": "3.10.13"
  }
 },
 "nbformat": 4,
 "nbformat_minor": 2
}
