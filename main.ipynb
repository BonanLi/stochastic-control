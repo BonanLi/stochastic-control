{
 "cells": [
  {
   "cell_type": "markdown",
   "metadata": {},
   "source": [
    "# SCDAA Coursework"
   ]
  },
  {
   "cell_type": "code",
   "execution_count": 1,
   "metadata": {},
   "outputs": [],
   "source": [
    "import numpy as np\n",
    "import scipy\n",
    "import matplotlib.pyplot as plt\n",
    "import torch"
   ]
  },
  {
   "cell_type": "code",
   "execution_count": null,
   "metadata": {},
   "outputs": [],
   "source": [
    "import torch\n",
    "import numpy as np\n",
    "from scipy.integrate import solve_ivp\n",
    "\n",
    "class LQR:\n",
    "    def __init__(self, H, M, C, D, R, T):\n",
    "        self.H = torch.tensor(H, dtype=torch.float32)\n",
    "        self.M = torch.tensor(M, dtype=torch.float32)\n",
    "        self.C = torch.tensor(C, dtype=torch.float32)\n",
    "        self.D = torch.tensor(D, dtype=torch.float32)\n",
    "        self.R = torch.tensor(R, dtype=torch.float32)\n",
    "        self.T = T\n",
    "        self.sigma = None  # This should be set based on the problem's context if needed\n",
    "\n",
    "    def solve_ricatti_ode(self, time_grid):\n",
    "        H, M, C, D, R = self.H.numpy(), self.M.numpy(), self.C.numpy(), self.D.numpy(), self.R.numpy()\n",
    "        T = self.T\n",
    "\n",
    "        def ricatti_ode(t, S_flat):\n",
    "            S = S_flat.reshape(2, 2)\n",
    "            dSdt = -2 * H.T @ S + S @ M @ np.linalg.inv(D) @ M.T @ S - C\n",
    "            return dSdt.flatten()\n",
    "\n",
    "        sol = solve_ivp(ricatti_ode, [T, time_grid[0]], R.flatten(), t_eval=time_grid[::-1], vectorized=True)\n",
    "        S_values = sol.y.T.reshape(-1, 2, 2)\n",
    "        return torch.tensor(S_values[::-1], dtype=torch.float32)  # Reverse the order to match the input time grid\n",
    "\n",
    "    def control_problem_value(self, t, x):\n",
    "        S_values = self.solve_ricatti_ode(t)\n",
    "        v_values = torch.stack([x_.T @ S_values[i] @ x_ for i, x_ in enumerate(x)])\n",
    "        if self.sigma is not None:\n",
    "            tr_values = torch.tensor([np.trace(self.sigma @ self.sigma.T @ S_values[i].numpy()) for i in range(len(t))], dtype=torch.float32)\n",
    "            integral_tr = torch.cumsum(tr_values * (t[1:] - t[:-1]), dim=0)\n",
    "            v_values += integral_tr\n",
    "        return v_values\n",
    "\n",
    "    def markov_control_function(self, t, x):\n",
    "        S_values = self.solve_ricatti_ode(t)\n",
    "        a_values = torch.stack([-torch.inverse(self.D) @ self.M.T @ S_values[i] @ x_ for i, x_ in enumerate(x)])\n",
    "        return a_values.squeeze(dim=1)\n",
    "\n",
    "# Example of how to initialize and use the class (without actual matrices and T)\n",
    "# H, M, C, D, R are matrices and T is a scalar\n",
    "# lqr = LQR(H=[[0, 1], [-1, 0]], M=[[1, 0], [0, 1]], C=[[1, 0], [0, 1]], D=[[1, 0], [0, 1]], R=[[1, 0], [0, 1]], T=1)\n",
    "# time_grid = torch.linspace(0, 1, steps=100)  # Example time grid\n",
    "# x = torch.tensor([[[1.0, 2.0]]])  # Example state tensor\n",
    "# print(lqr.markov_control_function(time_grid, x))\n"
   ]
  }
 ],
 "metadata": {
  "kernelspec": {
   "display_name": "Python 3",
   "language": "python",
   "name": "python3"
  },
  "language_info": {
   "codemirror_mode": {
    "name": "ipython",
    "version": 3
   },
   "file_extension": ".py",
   "mimetype": "text/x-python",
   "name": "python",
   "nbconvert_exporter": "python",
   "pygments_lexer": "ipython3",
   "version": "3.10.13"
  }
 },
 "nbformat": 4,
 "nbformat_minor": 2
}
